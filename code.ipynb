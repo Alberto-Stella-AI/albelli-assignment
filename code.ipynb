{
 "cells": [
  {
   "cell_type": "markdown",
   "metadata": {},
   "source": [
    "## Context\n",
    "\n",
    "A long time ago a previous machine learning engineer delivered a container that<br>\n",
    "serves a model for inference. Unfortunately the source code and documentation<br>\n",
    "was lost. We only know the following things:<br>\n",
    "\n",
    "• The container is available on Docker hub at resnap/assignment:latest.<br>\n",
    "You can run it on port 8000 with `docker run -p 8000:8000 resnap/assignment:latest`<br>\n",
    "\n",
    "• The container serves a simple HTTP API: Using curl, a request can<br>\n",
    "be made with `curl -X POST -H \"content-type: application/json\" -d '{\"numbers\": [1,2,3]}' http://localhost:8000` <br>\n",
    "if the container is running.<br>\n",
    "\n",
    "• To reduce container size, the model is downloaded on container startup.<br>"
   ]
  },
  {
   "cell_type": "markdown",
   "metadata": {},
   "source": [
    "### __Question 1__\n",
    "\n",
    "Run the container on your local machine, and write a Python script to make some requests to the container.<br>\n",
    "Please provide:<br>\n",
    "1. The code you use to make requests to the container<br>\n",
    "2. After a few requests, what do you think the model does? Which inputs did you try and why?<br>"
   ]
  },
  {
   "cell_type": "code",
   "execution_count": 12,
   "metadata": {},
   "outputs": [],
   "source": [
    "import requests\n",
    "import numpy as np\n",
    "import pandas as pd\n",
    "import matplotlib.pyplot as plt"
   ]
  },
  {
   "cell_type": "code",
   "execution_count": 13,
   "metadata": {},
   "outputs": [
    {
     "data": {
      "text/html": [
       "<div>\n",
       "<style scoped>\n",
       "    .dataframe tbody tr th:only-of-type {\n",
       "        vertical-align: middle;\n",
       "    }\n",
       "\n",
       "    .dataframe tbody tr th {\n",
       "        vertical-align: top;\n",
       "    }\n",
       "\n",
       "    .dataframe thead th {\n",
       "        text-align: right;\n",
       "    }\n",
       "</style>\n",
       "<table border=\"1\" class=\"dataframe\">\n",
       "  <thead>\n",
       "    <tr style=\"text-align: right;\">\n",
       "      <th></th>\n",
       "      <th>input</th>\n",
       "      <th>output</th>\n",
       "    </tr>\n",
       "  </thead>\n",
       "  <tbody>\n",
       "    <tr>\n",
       "      <th>0</th>\n",
       "      <td>-1.000000</td>\n",
       "      <td>0.000000</td>\n",
       "    </tr>\n",
       "    <tr>\n",
       "      <th>1</th>\n",
       "      <td>-0.736842</td>\n",
       "      <td>0.000000</td>\n",
       "    </tr>\n",
       "    <tr>\n",
       "      <th>2</th>\n",
       "      <td>-0.473684</td>\n",
       "      <td>0.000000</td>\n",
       "    </tr>\n",
       "    <tr>\n",
       "      <th>3</th>\n",
       "      <td>-0.210526</td>\n",
       "      <td>0.000000</td>\n",
       "    </tr>\n",
       "    <tr>\n",
       "      <th>4</th>\n",
       "      <td>0.052632</td>\n",
       "      <td>0.105263</td>\n",
       "    </tr>\n",
       "  </tbody>\n",
       "</table>\n",
       "</div>"
      ],
      "text/plain": [
       "      input    output\n",
       "0 -1.000000  0.000000\n",
       "1 -0.736842  0.000000\n",
       "2 -0.473684  0.000000\n",
       "3 -0.210526  0.000000\n",
       "4  0.052632  0.105263"
      ]
     },
     "execution_count": 13,
     "metadata": {},
     "output_type": "execute_result"
    }
   ],
   "source": [
    "# The container serves a HTTP API at http://localhost:8000\n",
    "# Using the requests library it is possible to communicate with the API by making HTTP requests.\n",
    "# The API can be used to infer from a model.\n",
    "# Using the POST method it is possible to provide the model with an input, given through the \"json\" parameter,\n",
    "#   and to receive the corresponding output.\n",
    "# The output is available accessing the attribute \"text\" of the Response object, in str type.\n",
    "# The .json() method returns a JSON object of the result or, as in our case, a list.\n",
    "\n",
    "\n",
    "url = 'http://localhost:8000'\n",
    "numbers = list(np.linspace(-1,4, num=20))\n",
    "myobj = {'numbers': numbers}\n",
    "\n",
    "x = requests.post(url, json = myobj)\n",
    "\n",
    "# A DataFrame with 2 columns is created: \n",
    "#   the \"input\" column is used to store the numbers given as input to the model,\n",
    "#   while the \"output\" column in used to store the output of the model.\n",
    "\n",
    "df = pd.DataFrame(myobj).rename({\"numbers\":\"input\"}, axis = 1)\n",
    "df[\"output\"] = pd.Series(x.json())\n",
    "df.head()\n"
   ]
  },
  {
   "cell_type": "code",
   "execution_count": 14,
   "metadata": {},
   "outputs": [
    {
     "data": {
      "image/png": "[encoded data removed]",
      "text/plain": [
       "<Figure size 720x360 with 1 Axes>"
      ]
     },
     "metadata": {
      "needs_background": "light"
     },
     "output_type": "display_data"
    }
   ],
   "source": [
    "# In order to investigate the behavior of the model, its outputs have been analyzed\n",
    "#   while giving different inputs (input-output analysis).\n",
    "# Specifically, the inputs tested are:\n",
    "#   1) [1,2,3]\n",
    "#   2) range(20)                            --> to understand the lenght if the input\n",
    "#   3) [[1.,2.,3.],[1.,2.,3.]]              --> to understand what dimensionality of the input was accepted by the model\n",
    "#   4) list(np.linspace(-10,10, num=100))   --> to understand the behavior with neg numbers\n",
    "#   5) list(np.linspace(-1,4, num=100))     --> to understand the smoothness around the point at (0,0) and at (3,6)\n",
    "\n",
    "# Using the same numbers previously given to the model,\n",
    "#   2 fuctions, with a similar behavior, are calculated and plotted against the model output.\n",
    "\n",
    "# The 2 functions were chosen intuitively drawing conclusions from the previous I/O analysis. \n",
    "# The 2 fuctions are:\n",
    "#   y = 2x \n",
    "#   y = clip(2x)\n",
    "\n",
    "# This is done in order to visually show that the behavior of the model consists in applying to the inputs the\n",
    "#   function y = clip(2x)\n",
    "\n",
    "\n",
    "df[\"2x\"] = 2*df.input\n",
    "df[\"2x_clipped\"] = np.clip(df[\"2x\"],0,6)\n",
    "\n",
    "\n",
    "cycler = plt.cycler(linestyle=['-', '--', '--'],color=['brown','orange', 'green'])\n",
    "fig, ax = plt.subplots()\n",
    "ax.set_prop_cycle(cycler)\n",
    "df.set_index(\"input\").plot(ax=ax, xlabel=\"Input numbers\", ylabel=\"Output Numbers\", figsize=(10,5), title = \"Model Output vs y=2x vs y=clip(2x)\")\n",
    "plt.grid(True)"
   ]
  },
  {
   "cell_type": "markdown",
   "metadata": {},
   "source": [
    "## __Question 2__\n",
    "Now that you are able to experiment with the model, you will need to extract<br>\n",
    "the saved model from the container. The model is a TorchScript model.<br>\n",
    "Please explain how you extracted the model from the running containers.<br>\n",
    "Ideally you provide the exact commands or code used to achieve this."
   ]
  },
  {
   "cell_type": "markdown",
   "metadata": {},
   "source": [
    "Once the container is locally running, a terminal is opened inside the repository where this script is located (cwd).<br>\n",
    "Below are listed the steps used to find the container id, to explore the files in the container, to find the TorchScript model and to extract and copy it inside the repository.<br>\n",
    "\n",
    "1) `docker container ls`                        --> lists all the active containers<br>\n",
    "2) `docker exec -it <container_id> bash`        --> executes an interactive bash inside the container<br>\n",
    "3) `ls`         (in the interactive shell)      --> lists files and folders in the pwd<br>\n",
    "4) `CTRL + D`   (in the interactive shell)      --> exits the container interactive shell<br>\n",
    "5) `docker cp <container_id>:\\model_scripted.pt extracted_model.pt`    --> copies the files at the container path into the destination path (repo where this script is located)"
   ]
  },
  {
   "cell_type": "markdown",
   "metadata": {},
   "source": [
    "## __Question 3__\n",
    "Now that you have extracted the model, you should inspect it locally.<br>\n",
    "You should write Python code that:<br>\n",
    "1. Loads the model<br>\n",
    "2. Runs the model on the input [1.0, 2.0, 3.0]<br>\n",
    "3. Inspects the layers of the model<br>\n",
    "With this code, answer the following questions:<br>\n",
    "• What does this model do? Do you think this is an useful model?<br>\n",
    "• What is the advantage of saving models in the TorchScript format?<br>"
   ]
  },
  {
   "cell_type": "code",
   "execution_count": 15,
   "metadata": {},
   "outputs": [
    {
     "data": {
      "text/plain": [
       "RecursiveScriptModule(original_name=Model)"
      ]
     },
     "execution_count": 15,
     "metadata": {},
     "output_type": "execute_result"
    }
   ],
   "source": [
    "# The extracted model (extracted_model.pt) is a TorchScript model and torch.jit has to be used to load it.\n",
    "#\n",
    "# torch.jit enables graph execution different and faster, compared to eager execution:\n",
    "# the computational graph need only be built once,\n",
    "# and the compiler can automatically find and apply optimizations to the code.\n",
    "# However, this comes at the cost of developer experience. \n",
    "# (High level analysis of torch.jit: https://spell.ml/blog/pytorch-jit-YBmYuBEAACgAiv71)\n",
    "#\n",
    "#\n",
    "# With the purpose of inspecting, the model is put in eval mode:\n",
    "# model.eval() is a kind of switch for some specific layers/parts of the model that behave differently during\n",
    "# training and inference (evaluating) time. For example, Dropouts Layers, BatchNorm Layers etc.\n",
    "# You need to turn off them during model evaluation, and .eval() will do it for you.\n",
    "\n",
    "# It is possible also to load ScriptModule from io.BytesIO object:\n",
    "\n",
    "#   import io\n",
    "#   import torch\n",
    "#   with open(\"extracted_model.pt\", \"rb\") as f:\n",
    "#       buffer = io.BytesIO(f.read())\n",
    "#   torch.jit.load(buffer)\n",
    "\n",
    "import torch\n",
    "\n",
    "with open(\"extracted_model.pt\", \"rb\") as f:\n",
    "    model = torch.jit.load(f)\n",
    "model.eval()"
   ]
  },
  {
   "cell_type": "code",
   "execution_count": 16,
   "metadata": {},
   "outputs": [],
   "source": [
    "# From the docstring of RecursiveScriptModule class:\n",
    "\n",
    "# The core data structure in TorchScript is the ``ScriptModule``. It is an\n",
    "# analogue of torch's ``nn.Module`` and represents an entire model as a tree of\n",
    "# submodules. Like normal modules, each individual module in a ``ScriptModule`` can\n",
    "# have submodules, parameters, and methods. In ``nn.Module`` methods are implemented\n",
    "# as Python functions, but in ``ScriptModule`` methods are implemented as\n",
    "# TorchScript functions, a statically-typed subset of Python that contains all\n",
    "# of PyTorch's built-in Tensor operations. This difference allows your\n",
    "# ``ScriptModule`` code to run without the need for a Python interpreter."
   ]
  },
  {
   "cell_type": "code",
   "execution_count": 17,
   "metadata": {},
   "outputs": [
    {
     "name": "stdout",
     "output_type": "stream",
     "text": [
      "tensor([[2., 4., 6.],\n",
      "        [2., 4., 6.],\n",
      "        [2., 4., 6.]])\n"
     ]
    }
   ],
   "source": [
    "# Running model on the input [1.,2.,3.] and printing the corresponding output\n",
    "\n",
    "input = torch.tensor([[1.,2.,3.],[1.,2.,3.],[1.,2.,3.]])\n",
    "output=model.forward(input)\n",
    "print(output)"
   ]
  },
  {
   "cell_type": "code",
   "execution_count": 18,
   "metadata": {},
   "outputs": [
    {
     "name": "stdout",
     "output_type": "stream",
     "text": [
      "def forward(self,\n",
      "    x: Tensor) -> Tensor:\n",
      "  _0 = __torch__.torch.nn.functional.relu6(torch.mul(x, 2), False, )\n",
      "  return _0\n",
      "\n"
     ]
    }
   ],
   "source": [
    "# Inspecting the code related to the layers of the model\n",
    "# .code returns a pretty-printed representation (as valid Python syntax) of the internal graph for the forward method.\n",
    "\n",
    "print(model.code)"
   ]
  },
  {
   "cell_type": "markdown",
   "metadata": {},
   "source": [
    "• What does this model do? Do you think this is an useful model?<br>\n",
    "\n",
    "From the cell above it is possible to notice that the only layer used in this model is<br>\n",
    "__torch.nn.functional.relu6__ where the input gets multiplied by 2 (torch.mul(x, 2)), behaving exactly like `y = clip(2x)`.<br>\n",
    "\n",
    "Further info can be found on the online documentation:<br>\n",
    "https://pytorch.org/docs/stable/generated/torch.nn.ReLU6.html#torch.nn.ReLU6<br>\n",
    "\n",
    "This model multiplies by 2 each element of the input  tensor and restricts the result to a 0-6 range.<br>\n",
    "There is not a learning step in this model, it only applies an activation function to the inputs.<br>\n",
    "Applying a threshold (in the range 0-6) to the outputs (interpretable as a shifted unit step), the model could be used as a classifier.<br>\n",
    "The usefulness of the model depends on the reason for which it was created: if the purpose was to test torch models exporting/loading, it is definitetly<br>\n",
    "useful since it does its job. However, evaluating the model for what it is, there are probably easier ways which do not require the definition of a torch module<br>\n",
    "to apply a clip(2x) function to an input tensor.<br>\n",
    "\n",
    "• What is the advantage of saving models in the TorchScript format?<br>\n",
    "\n",
    "The advantages of saving models in the TorchScript format can be summarized in __portability__ and __performace__.<br>\n",
    "TorchScript is a way to create serializable and optimizable models from PyTorch code.<br>\n",
    "Any TorchScript program can be saved from a Python process and loaded in a process where there is no Python dependency,<br>\n",
    "for example C++, via LibTorch. This can be done exporting and loading a TorchScript model.<br>\n",
    "For production scenarios, C++ is very often the language of choice and this approach allows you to embed your DL models<br>\n",
    "in various production environments like mobile or IoT.<br>\n",
    "In order to do that, jit, an optimized compiler for PyTorch programs, has to be used.<br>\n",
    "Moreover, jit should be used also if you want to gain some execution performance at the price of extra development effort:<br>\n",
    "on CPU the runtimes are similar but on GPU TorchScript clearly outperforms PyTorch."
   ]
  },
  {
   "cell_type": "markdown",
   "metadata": {},
   "source": [
    "## Question 4\n",
    "Now we want to integrate the model you extracted into a new scoring model.<br>\n",
    "You should write Python code that creates a model satisfying the following<br>\n",
    "requirements:<br>\n",
    "• The new model is a Torch module (torch.nn.Module)<br>\n",
    "• The new model takes two tensor inputs<br>\n",
    "• The new model applies the extracted model to both tensor inputs to generate a “score” for both inputs<br>\n",
    "• The new model then outputs a probability (between 0 and 1) that the first input is better than the second<br>\n",
    "You do not need to export this model, just provide the code to instantiate it."
   ]
  },
  {
   "cell_type": "code",
   "execution_count": 19,
   "metadata": {},
   "outputs": [],
   "source": [
    "# Reformulating the last requirement, probability that the first input is better than the second:\n",
    "#   probability that randomly picking a score from the first tensor, it is greater than\n",
    "#   a randomly picked score from the second tensor.\n",
    "\n",
    "# The last requirement can be satisfied using the probability estimated from the Mann-Whitney test of the alternative hypothesis.\n",
    "# It is implemented importing from scipy.stats.\n",
    "\n",
    "# Mann-Whitney U Test \n",
    "#\n",
    "# Given two independent samples, it tests whether one variable tends to have values higher than the other.\n",
    "# It is as nonparametric test. As such, it doesn't rely on a particular distribution. Therefore, whether or not the data is normally distributed is irrelevant.\n",
    "# One form of the test statistic is an estimate of the probability that one variable is less/greater than the other.\n",
    "# \n",
    "# + Assumptions:\n",
    "#       1) two indipendent random samples\n",
    "#       2) ordinal scaled characteristics (scoring 0-6)\n",
    "\n",
    "# + The Mann-Whitney U test results in:\n",
    "#       - Null hypothesis: There is no difference between the two groups in the population\n",
    "#       - Alternative hypothesis: There is a difference between the two groups in the population (> or <)\n",
    "\n",
    "# Here down below the new scoring model is defined.\n",
    "\n",
    "import numpy as np\n",
    "import torch\n",
    "import torch.nn as nn\n",
    "from scipy.stats import mannwhitneyu as mw\n",
    "\n",
    "class NewModel(nn.Module):\n",
    "    r\"\"\"\n",
    "        Class for the new scoring model.\n",
    "            - The NewModel class is a child class of the torch parent class nn.Module.\n",
    "            - It takes as input the previously extracted model.\n",
    "            - Using the method `forward` it is possible to estimate the probability that\n",
    "                the first input is better than the second.\n",
    "\n",
    "    \"\"\"\n",
    "    def __init__(self, extracted_model) -> None:\n",
    "        super(NewModel, self).__init__()\n",
    "        self.extracted_model = extracted_model\n",
    "        \n",
    "    def forward(self, x1, x2) -> float:\n",
    "        r\"\"\"\n",
    "            Returns the probability that randomly picking a score from the first tensor,\n",
    "            it is greater than a randomly picked score from the second tensor.\n",
    "\n",
    "            Parameters:\n",
    "                    x1 (torch.Tensor): first input tensor\n",
    "                    x2 (torch.Tensor): second input tensor\n",
    "\n",
    "            Returns:\n",
    "                    y (float): probability (0-1) that the first tensor (x1) is better than the second (x2)\n",
    "        \"\"\"\n",
    "        y1 = self.extracted_model.forward(x1).reshape((x1.numel(),1))\n",
    "        y2 = self.extracted_model.forward(x2).reshape((x2.numel(),1))\n",
    "        y = mw(y1, y2, alternative=\"greater\").statistic/(len(y1)*len(y2))        \n",
    "        return round(float(y),4)"
   ]
  },
  {
   "cell_type": "code",
   "execution_count": 20,
   "metadata": {},
   "outputs": [
    {
     "name": "stdout",
     "output_type": "stream",
     "text": [
      "Test 1\n",
      "\tExpected Probability ~ 0.5\n",
      "\tModel Probability = 0.5003\n",
      "\n",
      "\n",
      "Test 2\n",
      "\tExpected Probability = 0.5\n",
      "\tModel Probability = 0.5\n",
      "\n",
      "\n",
      "Test 3\n",
      "\tExpected Probability = 1.0\n",
      "\tModel Probability = 1.0\n",
      "\n",
      "\n",
      "Test 4\n",
      "\tExpected Probability = 0.0\n",
      "\tModel Probability = 0.0\n",
      "\n",
      "\n",
      "Test 5\n",
      "\tExpected Probability = 0.05\n",
      "\tModel Probability = 0.05\n",
      "\n",
      "\n"
     ]
    }
   ],
   "source": [
    "# In this section, after loading the extracted model, various tests are performed.\n",
    "# This is done in order to confirm and demonstrate the validity and functionality of the implemented solution for the \n",
    "#   the last question of the assignment.\n",
    "\n",
    "with open(\"extracted_model.pt\", \"rb\") as f:\n",
    "    model = torch.jit.load(f)\n",
    "model.eval()\n",
    "\n",
    "\n",
    "# Test 1: \n",
    "# The two tensors are part of the same distribution\n",
    "# Expected probability ~ 0.5\n",
    "# \n",
    "a = torch.tensor(np.random.uniform(-10,10,(20000,10,10)))\n",
    "b = torch.tensor(np.random.uniform(-10,10,(20000,10,10)))\n",
    "print(\"Test 1\\n\\tExpected Probability ~ 0.5\\n\\tModel Probability = {}\\n\\n\".format(NewModel(model).forward(a,b)))\n",
    "\n",
    "# Test 2: \n",
    "# The first tensor and the second are the same\n",
    "# Expected probability = 0.5\n",
    "# \n",
    "a = torch.tensor(np.random.uniform(-10,10,(20000,10,10)))\n",
    "print(\"Test 2\\n\\tExpected Probability = 0.5\\n\\tModel Probability = {}\\n\\n\".format(NewModel(model).forward(a,a)))\n",
    "\n",
    "\n",
    "# Test 3: \n",
    "# First tensor is always greater\n",
    "# Expected probability = 1.0\n",
    "#\n",
    "a = torch.tensor(np.zeros(10000)+3)\n",
    "b = torch.tensor(np.zeros(10000))\n",
    "print(\"Test 3\\n\\tExpected Probability = 1.0\\n\\tModel Probability = {}\\n\\n\".format(NewModel(model).forward(a,b)))\n",
    "\n",
    "# Test 4: \n",
    "# Second tensor is always greater\n",
    "# Expected probability = 0.0\n",
    "#\n",
    "a = torch.tensor(np.zeros(10000))\n",
    "b = torch.tensor(np.zeros(10000)+3)\n",
    "print(\"Test 4\\n\\tExpected Probability = 0.0\\n\\tModel Probability = {}\\n\\n\".format(NewModel(model).forward(a,b)))\n",
    "\n",
    "# Test 5:\n",
    "# Only 1 element of the first tensor is greater than one of the two elements of the second tensor.\n",
    "# Expected probability = 0.05\n",
    "#\n",
    "\n",
    "a = torch.cat((torch.tensor(np.zeros(9)), torch.tensor(np.zeros(1)+2)))\n",
    "b = torch.cat((torch.tensor(np.zeros(1)+1), torch.tensor(np.zeros(1)+3)))\n",
    "print(\"Test 5\\n\\tExpected Probability = 0.05\\n\\tModel Probability = {}\\n\\n\".format(NewModel(model).forward(a,b)))\n",
    "\n",
    "\n"
   ]
  }
 ],
 "metadata": {
  "kernelspec": {
   "display_name": "Python 3.9.12 ('base')",
   "language": "python",
   "name": "python3"
  },
  "language_info": {
   "codemirror_mode": {
    "name": "ipython",
    "version": 3
   },
   "file_extension": ".py",
   "mimetype": "text/x-python",
   "name": "python",
   "nbconvert_exporter": "python",
   "pygments_lexer": "ipython3",
   "version": "3.9.12"
  },
  "orig_nbformat": 4,
  "vscode": {
   "interpreter": {
    "hash": "f08154012ddadd8e950e6e9e035c7a7b32c136e7647e9b7c77e02eb723a8bedb"
   }
  }
 },
 "nbformat": 4,
 "nbformat_minor": 2
}
