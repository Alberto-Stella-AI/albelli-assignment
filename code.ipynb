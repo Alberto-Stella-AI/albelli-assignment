{
 "cells": [
  {
   "cell_type": "markdown",
   "metadata": {},
   "source": [
    "### __Question 1__\n",
    "\n",
    "Run the container on your local machine, and write a Python script to make some requests to the container.<br>\n",
    "Please provide:<br>\n",
    "1. The code you use to make requests to the container<br>\n",
    "2. After a few requests, what do you think the model does? Which inputs did you try and why?<br>"
   ]
  },
  {
   "cell_type": "code",
   "execution_count": 69,
   "metadata": {},
   "outputs": [],
   "source": [
    "import requests\n",
    "import numpy as np\n",
    "import pandas as pd\n",
    "import matplotlib.pyplot as plt"
   ]
  },
  {
   "cell_type": "code",
   "execution_count": 70,
   "metadata": {},
   "outputs": [
    {
     "data": {
      "text/html": [
       "<div>\n",
       "<style scoped>\n",
       "    .dataframe tbody tr th:only-of-type {\n",
       "        vertical-align: middle;\n",
       "    }\n",
       "\n",
       "    .dataframe tbody tr th {\n",
       "        vertical-align: top;\n",
       "    }\n",
       "\n",
       "    .dataframe thead th {\n",
       "        text-align: right;\n",
       "    }\n",
       "</style>\n",
       "<table border=\"1\" class=\"dataframe\">\n",
       "  <thead>\n",
       "    <tr style=\"text-align: right;\">\n",
       "      <th></th>\n",
       "      <th>input</th>\n",
       "      <th>output</th>\n",
       "    </tr>\n",
       "  </thead>\n",
       "  <tbody>\n",
       "    <tr>\n",
       "      <th>0</th>\n",
       "      <td>-1.00</td>\n",
       "      <td>0.0</td>\n",
       "    </tr>\n",
       "    <tr>\n",
       "      <th>1</th>\n",
       "      <td>0.25</td>\n",
       "      <td>0.5</td>\n",
       "    </tr>\n",
       "    <tr>\n",
       "      <th>2</th>\n",
       "      <td>1.50</td>\n",
       "      <td>3.0</td>\n",
       "    </tr>\n",
       "    <tr>\n",
       "      <th>3</th>\n",
       "      <td>2.75</td>\n",
       "      <td>5.5</td>\n",
       "    </tr>\n",
       "    <tr>\n",
       "      <th>4</th>\n",
       "      <td>4.00</td>\n",
       "      <td>6.0</td>\n",
       "    </tr>\n",
       "  </tbody>\n",
       "</table>\n",
       "</div>"
      ],
      "text/plain": [
       "   input  output\n",
       "0  -1.00     0.0\n",
       "1   0.25     0.5\n",
       "2   1.50     3.0\n",
       "3   2.75     5.5\n",
       "4   4.00     6.0"
      ]
     },
     "execution_count": 70,
     "metadata": {},
     "output_type": "execute_result"
    }
   ],
   "source": [
    "# The container serves a HTTP API at http://localhost:8000\n",
    "# Using the requests library it is possible to communicate with the API by making HTTP requests.\n",
    "# The API can be used to infer from a model.\n",
    "# Using the POST method it is possible to provide the model with an input, given through the \"json\" parameter,\n",
    "#   and to receive the corresponding output.\n",
    "# The output is available accessing the attribute \"text\" of the Response object, in str type.\n",
    "# The .json() method returns a JSON object of the result or, as in our case, a list.\n",
    "\n",
    "\n",
    "url = 'http://localhost:8000'\n",
    "numbers = list(np.linspace(-1,4, num=5))\n",
    "myobj = {'numbers': numbers}\n",
    "\n",
    "x = requests.post(url, json = myobj)\n",
    "\n",
    "# A DataFrame with 2 columns is created: \n",
    "#   the \"input\" column is used to store the numbers given as input to the model,\n",
    "#   while the \"output\" column in used to store the output of the model.\n",
    "\n",
    "df = pd.DataFrame(myobj).rename({\"numbers\":\"input\"}, axis = 1)\n",
    "df[\"output\"] = pd.Series(x.json())\n",
    "df.head()\n"
   ]
  },
  {
   "cell_type": "code",
   "execution_count": 71,
   "metadata": {},
   "outputs": [
    {
     "data": {
      "image/png": "[encoded data removed]",
      "text/plain": [
       "<Figure size 720x360 with 1 Axes>"
      ]
     },
     "metadata": {
      "needs_background": "light"
     },
     "output_type": "display_data"
    }
   ],
   "source": [
    "# In order to investigate the behavior of the model, its outputs have been analyzed\n",
    "#   while giving different inputs (input-output analysis).\n",
    "# Specifically the tried inputs were:\n",
    "#   1) [1,2,3]\n",
    "#   2) range(20)\n",
    "#   3) [[1.,2.,3.],[1.,2.,3.]]              --> to understand what dimensionality of the input was accepted by the model\n",
    "#   4) list(np.linspace(-10,10, num=100))   --> to understand the behavior with neg numbers\n",
    "#   5) list(np.linspace(-1,4, num=100))     --> to understand the smoothness around the point at (0,0) and at (3,6)\n",
    "\n",
    "# Using the same numbers previously given to the model,\n",
    "#   2 fuctions are calculated and plotted against the model output.\n",
    "\n",
    "# The 2 functions were chosen intuitively drawing conclusions from the previous I/O analysis. \n",
    "# The 2 fuctions are:\n",
    "#   y = 2x \n",
    "#   y = clip(2x)\n",
    "\n",
    "# This is done in order to visually show that the behavior of the model consists in applying to the inputs the\n",
    "#   function y = clip(2x)\n",
    "\n",
    "\n",
    "df[\"2x\"] = 2*df.input\n",
    "df[\"2x_clipped\"] = np.clip(df[\"2x\"],0,6)\n",
    "\n",
    "\n",
    "cycler = plt.cycler(linestyle=['-', '--', '--'],color=['brown','orange', 'green'])\n",
    "fig, ax = plt.subplots()\n",
    "ax.set_prop_cycle(cycler)\n",
    "df.set_index(\"input\").plot(ax=ax, xlabel=\"Input numbers\", ylabel=\"Output Numbers\", figsize=(10,5), title = \"Model Output vs y=2x vs y=clip(2x)\")\n",
    "plt.grid(True)"
   ]
  },
  {
   "cell_type": "markdown",
   "metadata": {},
   "source": [
    "## __Question 2__\n",
    "Now that you are able to experiment with the model, you will need to extract<br>\n",
    "the saved model from the container. The model is a TorchScript model.<br>\n",
    "Please explain how you extracted the model from the running containers.<br>\n",
    "Ideally you provide the exact commands or code used to achieve this."
   ]
  },
  {
   "cell_type": "markdown",
   "metadata": {},
   "source": [
    "Once the container is locally running, a terminal is opened inside the repository where this script is located.<br>\n",
    "Below are listed the steps used to find the container id, to explore the files in the container, to find the TorchScript model and to copy it inside the repository.<br>\n",
    "\n",
    "1) `docker container ls`                          --> lists all the active containers<br>\n",
    "2) `docker exec -it <container_id> bash`        --> executes an interactive bash inside the container<br>\n",
    "3) `ls`                                           --> lists files and folders in the pwd<br>\n",
    "4) `CTRL + D`                                     --> exits the container interactive shell<br>\n",
    "5) `docker cp <container_id>:\\model_scripted.pt extracted_model`    --> copies the files at the container path into the destination path (repo where there is this code)"
   ]
  },
  {
   "cell_type": "markdown",
   "metadata": {},
   "source": [
    "## __Question 3__\n",
    "Now that you have extracted the model, you should inspect it locally.<br>\n",
    "You should write Python code that:<br>\n",
    "1. Loads the model<br>\n",
    "2. Runs the model on the input [1.0, 2.0, 3.0]<br>\n",
    "3. Inspects the layers of the model<br>\n",
    "With this code, answer the following questions:<br>\n",
    "• What does this model do? Do you think this is an useful model?<br>\n",
    "• What is the advantage of saving models in the TorchScript format?<br>"
   ]
  },
  {
   "cell_type": "code",
   "execution_count": 72,
   "metadata": {},
   "outputs": [
    {
     "data": {
      "text/plain": [
       "RecursiveScriptModule(original_name=Model)"
      ]
     },
     "execution_count": 72,
     "metadata": {},
     "output_type": "execute_result"
    }
   ],
   "source": [
    "# Model loading in eval() mode\n",
    "\n",
    "import torch\n",
    "\n",
    "with open(\"extracted_model.pt\", \"rb\") as f:\n",
    "    model = torch.jit.load(f)\n",
    "model.eval()"
   ]
  },
  {
   "cell_type": "code",
   "execution_count": 73,
   "metadata": {},
   "outputs": [
    {
     "name": "stdout",
     "output_type": "stream",
     "text": [
      "tensor([[2., 4., 6.],\n",
      "        [2., 4., 6.],\n",
      "        [2., 4., 6.]])\n"
     ]
    }
   ],
   "source": [
    "# Model running on the input [1,2,3]\n",
    "\n",
    "input = torch.tensor([[1.,2.,3.],[1.,2.,3.],[1.,2.,3.]])\n",
    "output=model.forward(input)\n",
    "print(output)"
   ]
  },
  {
   "cell_type": "code",
   "execution_count": 74,
   "metadata": {},
   "outputs": [
    {
     "name": "stdout",
     "output_type": "stream",
     "text": [
      "def forward(self,\n",
      "    x: Tensor) -> Tensor:\n",
      "  _0 = __torch__.torch.nn.functional.relu6(torch.mul(x, 2), False, )\n",
      "  return _0\n",
      "\n"
     ]
    }
   ],
   "source": [
    "# Inspecting the code related to the layers of the model\n",
    "\n",
    "print(model.code)"
   ]
  },
  {
   "cell_type": "markdown",
   "metadata": {},
   "source": [
    "• What does this model do? Do you think this is an useful model?<br>\n",
    "\n",
    "From the cell above it is possible to notice that the only layer used in this model is<br>\n",
    "__torch.nn.functional.relu6__ where the input gets multiplied by 2 (torch.mul(x, 2)), behaving exactly like `y = clip(2x)`.<br>\n",
    "\n",
    "Further info can be found on the online documentation:<br>\n",
    "https://pytorch.org/docs/stable/generated/torch.nn.ReLU6.html#torch.nn.ReLU6<br>\n",
    "\n",
    "This, probably, is not an useful model since it only applies an activation function to the inputs.<br>\n",
    "Applying a threshold to the outputs (interpretable as a shifted unit step), the model could be interpreted as a classifier.<br>\n",
    "\n",
    "• What is the advantage of saving models in the TorchScript format?<br>\n",
    "\n",
    "The advantages of saving models in the TorchScript format can be summarized in __portability__ and __performace__.\n",
    "TorchScript is a way to create serializable and optimizable models from PyTorch code. Any TorchScript program can be saved from a Python process and loaded in a process where there is no Python dependency, for example C++, via LibTorch. For production scenarios, C++ is very often the language of choice and this approach allows you to embed your DL models in various production environments like mobile or IoT.\n",
    "In order to do that, jit, an optimized compiler for PyTorch programs, has to be used. Moreover, jit should be used aslo if you want to gain some execution performance at the price of extra development effort: on CPU the runtimes are similar but on GPU TorchScript clearly outperforms PyTorch."
   ]
  },
  {
   "cell_type": "markdown",
   "metadata": {},
   "source": [
    "## Question 4\n",
    "Now we want to integrate the model you extracted into a new scoring model.<br>\n",
    "You should write Python code that creates a model satisfying the following<br>\n",
    "requirements:<br>\n",
    "• The new model is a Torch module (torch.nn.Module)<br>\n",
    "• The new model takes two tensor inputs<br>\n",
    "• The new model applies the extracted model to both tensor inputs to generate a “score” for both inputs<br>\n",
    "• The new model then outputs a probability (between 0 and 1) that the first input is better than the second<br>\n",
    "You do not need to export this model, just provide the code to instantiate it."
   ]
  },
  {
   "cell_type": "code",
   "execution_count": 75,
   "metadata": {},
   "outputs": [],
   "source": [
    "# Probability that the first input is better score than the second:\n",
    "#   probability that randomly picking a score from the first tensor, it is greater than\n",
    "#   a randomly picked score from the second tensor.\n",
    "\n",
    "\n",
    "# Mann-Whitney U Test \n",
    "#\n",
    "# Given two independent samples, it tests whether one variable tends to have values higher than the other.\n",
    "# One form of the test statistic is an estimate of the probability that one variable is less than the other.\n",
    "# \n",
    "# + Assumptions:\n",
    "#       1) two indipendent random samples\n",
    "#       2) ordinal scaled characteristics (scoring 0-6)\n",
    "\n",
    "# + The Mann-Whitney U test results in:\n",
    "#       - Null hypothesis: There is no difference between the two groups in the population\n",
    "#       - Alternative hypothesis: There is a difference between the two groups in the population\n",
    "\n",
    "import numpy as np\n",
    "import torch\n",
    "import torch.nn as nn\n",
    "from scipy.stats import mannwhitneyu as mw\n",
    "\n",
    "class NewModel(nn.Module):\n",
    "\n",
    "    def __init__(self, extracted_model):\n",
    "        super(NewModel, self).__init__()\n",
    "        self.extracted_model = extracted_model\n",
    "    def forward(self, x1, x2):\n",
    "        y1 = self.extracted_model.forward(x1).reshape((x1.numel(),1))\n",
    "        y2 = self.extracted_model.forward(x2).reshape((x2.numel(),1))\n",
    "        y = mw(y1, y2, alternative=\"greater\").statistic/(len(y1)*len(y2))        \n",
    "        return y"
   ]
  },
  {
   "cell_type": "code",
   "execution_count": 76,
   "metadata": {},
   "outputs": [
    {
     "name": "stdout",
     "output_type": "stream",
     "text": [
      "[0.49938859]\n",
      "[0.5]\n",
      "[1.]\n",
      "[0.]\n",
      "[0.05]\n"
     ]
    }
   ],
   "source": [
    "# In this section, after loading the extracted model, various tests are performed.\n",
    "# This is done in order to confirm and demonstrate the validity and functionality of the implemented solution for the \n",
    "#   the last question of the assignment.\n",
    "\n",
    "with open(\"extracted_model.pt\", \"rb\") as f:\n",
    "    model = torch.jit.load(f)\n",
    "model.eval()\n",
    "\n",
    "\n",
    "# Test 1: \n",
    "# The two tensors are part of the same distribution\n",
    "# Expected probability ~ 0.5\n",
    "# \n",
    "a = torch.tensor(np.random.uniform(-10,10,(20000,10,10)))\n",
    "b = torch.tensor(np.random.uniform(-10,10,(20000,10,10)))\n",
    "print(NewModel(model).forward(a,b))\n",
    "\n",
    "# Test 2: \n",
    "# The first tensor and the second are the same\n",
    "# Expected probability = 0.5\n",
    "# \n",
    "a = torch.tensor(np.random.uniform(-10,10,(20000,10,10)))\n",
    "\n",
    "print(NewModel(model).forward(a,a))\n",
    "\n",
    "\n",
    "# Test 3: \n",
    "# First tensor is always greater\n",
    "# Expected probability = 1.0\n",
    "#\n",
    "a = torch.tensor(np.zeros(10000)+3)\n",
    "b = torch.tensor(np.zeros(10000))\n",
    "print(NewModel(model).forward(a,b))\n",
    "\n",
    "# Test 4: \n",
    "# Second tensor is always greater\n",
    "# Expected probability = 0.0\n",
    "#\n",
    "a = torch.tensor(np.zeros(10000))\n",
    "b = torch.tensor(np.zeros(10000)+3)\n",
    "print(NewModel(model).forward(a,b))\n",
    "\n",
    "# Test 5:\n",
    "# Only 1 element of the first tensor is greater than one of the two elements of the second tensor.\n",
    "# Expected probability = 0.05\n",
    "#\n",
    "\n",
    "a = torch.cat((torch.tensor(np.zeros(9)), torch.tensor(np.zeros(1)+2)))\n",
    "b = torch.cat((torch.tensor(np.zeros(1)+1), torch.tensor(np.zeros(1)+3)))\n",
    "print(NewModel(model).forward(a,b))\n",
    "\n",
    "\n"
   ]
  }
 ],
 "metadata": {
  "kernelspec": {
   "display_name": "Python 3.9.12 ('base')",
   "language": "python",
   "name": "python3"
  },
  "language_info": {
   "codemirror_mode": {
    "name": "ipython",
    "version": 3
   },
   "file_extension": ".py",
   "mimetype": "text/x-python",
   "name": "python",
   "nbconvert_exporter": "python",
   "pygments_lexer": "ipython3",
   "version": "3.9.12"
  },
  "orig_nbformat": 4,
  "vscode": {
   "interpreter": {
    "hash": "f08154012ddadd8e950e6e9e035c7a7b32c136e7647e9b7c77e02eb723a8bedb"
   }
  }
 },
 "nbformat": 4,
 "nbformat_minor": 2
}
